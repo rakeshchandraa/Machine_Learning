{
 "cells": [
  {
   "cell_type": "code",
   "execution_count": 8,
   "metadata": {},
   "outputs": [
    {
     "name": "stdout",
     "output_type": "stream",
     "text": [
      "* \n",
      "* * \n",
      "* * * \n",
      "* * * * \n",
      "* * * * * \n",
      "* * * * \n",
      "* * * \n",
      "* * \n",
      "* \n",
      "\n"
     ]
    }
   ],
   "source": [
    "n = 5\n",
    "for i in range(0, n):\n",
    "    for j in range(0, i+1):\n",
    "        print (\"*\", end = ' ')\n",
    "    print (\"\\r\") #r is carriage return\n",
    "\n",
    "for i in range(n, 0, -1):\n",
    "    for j in range(0, i-1):\n",
    "        print (\"*\", end = ' ')\n",
    "    print (\"\\r\")"
   ]
  },
  {
   "cell_type": "code",
   "execution_count": 10,
   "metadata": {},
   "outputs": [
    {
     "name": "stdout",
     "output_type": "stream",
     "text": [
      "20 40 60 80 100 "
     ]
    }
   ],
   "source": [
    "my_list = [10, 20, 30, 40, 50, 60, 70, 80, 90, 100]\n",
    "for i in my_list[1::2]: #tihs slicing operation starts with index 1 and it's step is 2 ie., 1, 3, 5, ....and prints elements in that odd positions.\n",
    "    print(i, end= \" \")"
   ]
  },
  {
   "cell_type": "code",
   "execution_count": 14,
   "metadata": {},
   "outputs": [
    {
     "name": "stdout",
     "output_type": "stream",
     "text": [
      "[23, 'Python', 23.98]\n",
      "[<class 'int'>, <class 'str'>, <class 'float'>]\n"
     ]
    }
   ],
   "source": [
    "a = [23, 'Python', 23.98]\n",
    "b = []\n",
    "for i in a:\n",
    "    b.append(type(i)) #appending data types of elements in a to b\n",
    "print(a)\n",
    "print(b)"
   ]
  },
  {
   "cell_type": "code",
   "execution_count": 15,
   "metadata": {},
   "outputs": [
    {
     "name": "stdout",
     "output_type": "stream",
     "text": [
      "Unique List:  [1, 2, 3, 4, 5]\n"
     ]
    }
   ],
   "source": [
    "def unique_list(l):\n",
    "    res=[]\n",
    "    for i in l:\n",
    "        if i not in res: #checking whether the number is in list or not\n",
    "            res.append(i) #appending the unique number to result list\n",
    "    return res\n",
    "\n",
    "lst=[1,2,3,3,3,3,4,5]\n",
    "print(\"Unique List: \", unique_list(lst))"
   ]
  },
  {
   "cell_type": "code",
   "execution_count": 20,
   "metadata": {},
   "outputs": [
    {
     "name": "stdout",
     "output_type": "stream",
     "text": [
      "Input String:  The quick Brow Fox\n",
      "No. of Upper-case characters:  3\n",
      "No.of Lower-case characters:  12\n"
     ]
    }
   ],
   "source": [
    "def lettersCount(s):\n",
    "    d = {\"UPPER_CASE\": 0, \"LOWER_CASE\": 0}   #used dictionary and initialised both lowercase and uppercase values to 0 \n",
    "    for i in s:\n",
    "        if i.isupper():         #used isupper() method to find upper case letters\n",
    "            d[\"UPPER_CASE\"]+=1\n",
    "        elif i.islower():       #used islower() method to find lower case letters\n",
    "            d[\"LOWER_CASE\"]+=1\n",
    "        else:\n",
    "            pass\n",
    "    print(\"Input String: \", s)\n",
    "    print(\"No. of Upper-case characters: \", d[\"UPPER_CASE\"])\n",
    "    print(\"No.of Lower-case characters: \", d[\"LOWER_CASE\"])\n",
    "    \n",
    "str='The quick Brow Fox'\n",
    "lettersCount(str)"
   ]
  },
  {
   "cell_type": "code",
   "execution_count": null,
   "metadata": {},
   "outputs": [],
   "source": []
  }
 ],
 "metadata": {
  "kernelspec": {
   "display_name": "Python 3",
   "language": "python",
   "name": "python3"
  },
  "language_info": {
   "codemirror_mode": {
    "name": "ipython",
    "version": 3
   },
   "file_extension": ".py",
   "mimetype": "text/x-python",
   "name": "python",
   "nbconvert_exporter": "python",
   "pygments_lexer": "ipython3",
   "version": "3.11.4"
  }
 },
 "nbformat": 4,
 "nbformat_minor": 2
}
