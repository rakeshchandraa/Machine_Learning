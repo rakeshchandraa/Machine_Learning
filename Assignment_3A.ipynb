{
 "cells": [
  {
   "cell_type": "code",
   "execution_count": 7,
   "id": "69b21fb0",
   "metadata": {},
   "outputs": [
    {
     "name": "stdout",
     "output_type": "stream",
     "text": [
      "Original array:  [ 3  4  9 11  2 16 18  6 16 18 17  1  9  4  2]\n"
     ]
    }
   ],
   "source": [
    "# a.Using NumPy create random vector of size 15 having only Integers in the range 1-20.\n",
    "import numpy as np\n",
    "randVect = np.random.randint(low=1, high=21, size=15)\n",
    "print(\"Original array: \", randVect)"
   ]
  },
  {
   "cell_type": "code",
   "execution_count": 11,
   "id": "93fa071a",
   "metadata": {},
   "outputs": [
    {
     "name": "stdout",
     "output_type": "stream",
     "text": [
      "Reshaped array: \n",
      "[[ 3  4  9 11  2]\n",
      " [16 18  6 16 18]\n",
      " [17  1  9  4  2]]\n"
     ]
    }
   ],
   "source": [
    "# a1. Reshape the array to 3 by 5\n",
    "array = randVect.reshape(3,5)\n",
    "print(\"Reshaped array: \")\n",
    "print(array)"
   ]
  },
  {
   "cell_type": "code",
   "execution_count": 13,
   "id": "ce0d5c42",
   "metadata": {},
   "outputs": [
    {
     "name": "stdout",
     "output_type": "stream",
     "text": [
      "(3, 5)\n"
     ]
    }
   ],
   "source": [
    "# a2. Print array shape.\n",
    "arrayShape = array.shape\n",
    "print(arrayShape)"
   ]
  },
  {
   "cell_type": "code",
   "execution_count": 15,
   "id": "47aaac0e",
   "metadata": {},
   "outputs": [
    {
     "name": "stdout",
     "output_type": "stream",
     "text": [
      "Modified array:\n",
      "[[ 3  4  0  0  2]\n",
      " [16  0  6 16  0]\n",
      " [ 0  1  0  4  2]]\n"
     ]
    }
   ],
   "source": [
    "# a3. Replace the max in each row by 0\n",
    "max_indices = np.argmax(array, axis=1) #argmax chooses the maximum value from the array, axis=1 chooses from each row\n",
    "array[np.arange(array.shape[0]), max_indices] = 0\n",
    "print(\"Modified array:\")\n",
    "print(array)"
   ]
  },
  {
   "cell_type": "code",
   "execution_count": 21,
   "id": "84f4c6cd",
   "metadata": {},
   "outputs": [
    {
     "name": "stdout",
     "output_type": "stream",
     "text": [
      "Shape of array: (4, 3)\n",
      "Type of array: <class 'numpy.ndarray'>\n",
      "Data type of array: int32\n"
     ]
    }
   ],
   "source": [
    "# Create a 2-dimensional array of size 4 x 3 (composed of 4-byte integer elements), also print the shape, type and data type\n",
    "# of the array\n",
    "import numpy as np\n",
    "arr2 = np.array([[1,2,3], [2,3,4], [3,4,5], [4,5,6]], dtype= np.int32)\n",
    "print(\"Shape of array:\", arr2.shape)\n",
    "print(\"Type of array:\", type(arr2))\n",
    "print(\"Data type of array:\", arr2.dtype)"
   ]
  },
  {
   "cell_type": "code",
   "execution_count": 28,
   "id": "9d4e5085",
   "metadata": {},
   "outputs": [
    {
     "name": "stdout",
     "output_type": "stream",
     "text": [
      "Eigenvalues:\n",
      "[2. 1.]\n",
      "\n",
      "Right Eigenvectors:\n",
      "[[0.89442719 0.70710678]\n",
      " [0.4472136  0.70710678]]\n"
     ]
    }
   ],
   "source": [
    "# b. Write a program to compute the eigenvalues and right eigenvectors of a given square array given below:\n",
    "## [[ 3 -2] [ 1 0]]\n",
    "\n",
    "arr3 = np.array([[3,-2], [1,0]])\n",
    "eigenValues, eigenVectors = np.linalg.eig(arr3) # linalg module in numpy library has eig function to find eigen values and vectors\n",
    "print(\"Eigenvalues:\")\n",
    "print(eigenValues)\n",
    "print(\"\\nRight Eigenvectors:\")\n",
    "print(eigenVectors)"
   ]
  },
  {
   "cell_type": "code",
   "execution_count": 32,
   "id": "7f3acd2e",
   "metadata": {},
   "outputs": [
    {
     "name": "stdout",
     "output_type": "stream",
     "text": [
      "Sum of Diagonal Element: 4\n"
     ]
    }
   ],
   "source": [
    "# c. Compute the sum of the diagonal element of a given array.\n",
    "## [[0 1 2] [3 4 5]]\n",
    "\n",
    "arr4 = np.array([[0,1,2], [3,4,5]])\n",
    "sumOfDiagonalElement = np.trace(arr4) #trace() function is used to return the sum of the diagonals of the matrix.\n",
    "print(\"Sum of Diagonal Element:\", sumOfDiagonalElement)"
   ]
  },
  {
   "cell_type": "code",
   "execution_count": 35,
   "id": "77abb122",
   "metadata": {},
   "outputs": [
    {
     "name": "stdout",
     "output_type": "stream",
     "text": [
      "Reshaping 3x2 to 2x3 \n",
      " [[1 2 3]\n",
      " [4 5 6]]\n",
      "Reshaping 2x3 to 3x2 \n",
      " [[1 2]\n",
      " [3 4]\n",
      " [5 6]]\n"
     ]
    }
   ],
   "source": [
    "# Write a NumPy program to create a new shape to an array without changing its data.\n",
    "# Reshape 3x2: \n",
    "# [[1 2]       \n",
    "# [3 4]\n",
    "# [5 6]]\n",
    "\n",
    "# Reshape 2x3:\n",
    "# [[1 2 3]\n",
    "# [4 5 6]]\n",
    "\n",
    "arr5 = np.array([[1,2], [3,4], [5,6]])\n",
    "reShape3By2 = arr5.reshape(2,3)\n",
    "print(\"Reshaping 3x2 to 2x3 \\n\", reShape3By2)\n",
    "\n",
    "arr6 = np.array([[1,2,3], [4,5,6]])\n",
    "reShape2By3 = arr6.reshape(3,2)\n",
    "print(\"Reshaping 2x3 to 3x2 \\n\", reShape2By3)\n"
   ]
  },
  {
   "cell_type": "code",
   "execution_count": null,
   "id": "99966422",
   "metadata": {},
   "outputs": [],
   "source": []
  }
 ],
 "metadata": {
  "kernelspec": {
   "display_name": "Python 3 (ipykernel)",
   "language": "python",
   "name": "python3"
  },
  "language_info": {
   "codemirror_mode": {
    "name": "ipython",
    "version": 3
   },
   "file_extension": ".py",
   "mimetype": "text/x-python",
   "name": "python",
   "nbconvert_exporter": "python",
   "pygments_lexer": "ipython3",
   "version": "3.11.5"
  }
 },
 "nbformat": 4,
 "nbformat_minor": 5
}
