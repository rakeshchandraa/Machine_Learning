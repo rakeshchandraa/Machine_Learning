{
 "cells": [
  {
   "cell_type": "code",
   "execution_count": 11,
   "id": "f1122a16",
   "metadata": {},
   "outputs": [
    {
     "name": "stdout",
     "output_type": "stream",
     "text": [
      "Sorted list is:  [19, 19, 20, 22, 24, 24, 24, 25, 25, 26]\n",
      "List after appending min & max:  [19, 19, 19, 20, 22, 24, 24, 24, 25, 25, 26, 26]\n",
      "Median of the list is:  24.0\n",
      "Mean of the list is:  22.75\n",
      "Range of the list is:  7\n"
     ]
    }
   ],
   "source": [
    "#Question 1\n",
    "\n",
    "ages=[19, 22, 19, 24, 20, 25, 26, 24, 25, 24]\n",
    "#sortedAges = sorted(ages)\n",
    "ages.sort()\n",
    "print(\"Sorted list is: \",ages)   #sorted list\n",
    "minAge=min(ages)\n",
    "maxAge=max(ages)\n",
    "ages.append(minAge)      \n",
    "ages.append(maxAge)              #appended minimum and maximum age to the list\n",
    "ages.sort()\n",
    "print('List after appending min & max: ',ages)\n",
    "lstLen = len(ages)\n",
    "index = (lstLen) // 2        #middle indexed number\n",
    "\n",
    "if (lstLen % 2)==0:\n",
    "    print(\"Median of the list is: \",(ages[index] + ages[index + 1])/2.0) #median if there are even number of ages\n",
    "else:\n",
    "    print(\"Median of the list is: \",ages[index]) #median if there are odd number of ages\n",
    "    \n",
    "averageAge=sum(ages)/lstLen  #mean of ages\n",
    "print(\"Mean of the list is: \",averageAge)\n",
    "rangeOfAges=max(ages)-min(ages) #range of ages\n",
    "print(\"Range of the list is: \",rangeOfAges)"
   ]
  },
  {
   "cell_type": "code",
   "execution_count": 15,
   "id": "eabc9cb6",
   "metadata": {},
   "outputs": [
    {
     "name": "stdout",
     "output_type": "stream",
     "text": [
      "Length of Student Dictionary:  9\n",
      "['python', 'java', 'sql']\n",
      "<class 'list'>\n",
      "{'first_name': 'Rakesh', 'last_name': 'Kolagani', 'gender': 'Male', 'age': 24, 'marital status': 'Unmarried', 'skills': ['python', 'java', 'sql', 'Machine Learning', 'Database'], 'country': 'India', 'city': 'Jagtial', 'address': '5-38/1 Krishna Nagar'}\n",
      "Keys:  dict_keys(['first_name', 'last_name', 'gender', 'age', 'marital status', 'skills', 'country', 'city', 'address']) \n",
      " Values:  dict_values(['Rakesh', 'Kolagani', 'Male', 24, 'Unmarried', ['python', 'java', 'sql', 'Machine Learning', 'Database'], 'India', 'Jagtial', '5-38/1 Krishna Nagar'])\n"
     ]
    }
   ],
   "source": [
    "#Question 2\n",
    "\n",
    "dog={}\n",
    "dog['name'] = 'Chintu' #assigning values to the dog dict using keys\n",
    "dog['color'] = 'Brown'\n",
    "dog['breed'] = 'Labrador'\n",
    "dog['legs'] = 4\n",
    "dog['age'] = 3\n",
    "#print(\"Updated Dog Dictionary: \",dog)\n",
    "student={'first_name':'Rakesh', 'last_name':'Kolagani', 'gender':'Male', 'age':24, 'marital status': 'Unmarried',\n",
    "'skills':['python','java','sql'], 'country':'India', 'city':'Jagtial', 'address':'5-38/1 Krishna Nagar'}\n",
    "print(\"Length of Student Dictionary: \",len(student)) #printing the length of student dictionary\n",
    "x_skills=student['skills']\n",
    "print(x_skills)\n",
    "print(type(x_skills))  #printing the data type of value of skills key \n",
    "student['skills'].extend(['Machine Learning','Database']) #adding an elements to the skills using extend function\n",
    "print(student)\n",
    "k=student.keys()   #finding keys of dict using .keys() method\n",
    "v=student.values() #finding values of dict using .values() method\n",
    "print(\"Keys: \",k,'\\n',\"Values: \",v)"
   ]
  },
  {
   "cell_type": "code",
   "execution_count": 12,
   "id": "209705a6",
   "metadata": {},
   "outputs": [
    {
     "name": "stdout",
     "output_type": "stream",
     "text": [
      "Siblings:  ('Pranavi', 'Deekshita', 'Sahasra', 'Nithin', 'Sricharan', 'Nihansh')\n",
      "I have  6 siblings\n",
      "Family Members:  ('Pranavi', 'Deekshita', 'Sahasra', 'Nithin', 'Sricharan', 'Nihansh', 'Lingareddy', 'Padma')\n"
     ]
    }
   ],
   "source": [
    "#Question 3\n",
    "\n",
    "sisters=('Pranavi','Deekshita','Sahasra')\n",
    "brothers=('Nithin','Sricharan','Nihansh')\n",
    "siblings=sisters+brothers #appending the tuples\n",
    "print('Siblings: ',siblings)\n",
    "print('I have ',len(siblings),'siblings')    #printing length of siblings tuple\n",
    "fam=siblings+('Lingareddy','Padma')         #adding father and mother names to family tuple\n",
    "print('Family Members: ',fam)"
   ]
  },
  {
   "cell_type": "code",
   "execution_count": 12,
   "id": "fdb503c1",
   "metadata": {},
   "outputs": [
    {
     "name": "stdout",
     "output_type": "stream",
     "text": [
      "Length of it_companies:  7\n",
      "Updated set after adding Twitter: \n",
      " {'Microsoft', 'Facebook', 'Apple', 'Oracle', 'Google', 'IBM', 'Amazon', 'Twitter'}\n",
      "Updated set after inserting multiple companies at once: \n",
      " {'Deloitte', 'Facebook', 'Amazon', 'Twitter', 'Microsoft', 'Apple', 'Oracle', 'Google', 'IBM', 'Bosch', 'Wipro'}\n",
      "Updated set after reoving an element: \n",
      " {'Deloitte', 'Amazon', 'Twitter', 'Microsoft', 'Apple', 'Oracle', 'Google', 'IBM', 'Bosch', 'Wipro'}\n",
      "\n",
      "Join of A and B:  {19, 20, 22, 24, 25, 26, 27, 28}\n",
      "Intersection of A and B:  {19, 20, 22, 24, 25, 26}\n",
      "Is A subset of B:  True\n",
      "Are A and B disjoint sets:  False\n",
      "A U B:  {19, 20, 22, 24, 25, 26, 27, 28} \n",
      " B U A:  {19, 20, 22, 24, 25, 26, 27, 28}\n",
      "symmetric difference between A and B:  {27, 28}\n",
      "\n",
      "Length of age list: 8 Length of age set:  5\n",
      "Both lengths are not equal\n"
     ]
    }
   ],
   "source": [
    "#Question 4\n",
    "\n",
    "it_companies = {'Facebook', 'Google', 'Microsoft', 'Apple', 'IBM', 'Oracle', 'Amazon'}\n",
    "A = {19, 22, 24, 20, 25, 26}\n",
    "B = {19, 22, 20, 25, 26, 24, 28, 27}\n",
    "age = [22, 19, 24, 25, 26, 24, 25, 24]\n",
    "print('Length of it_companies: ',len(it_companies))\n",
    "it_companies.add('Twitter')       #added Twitter to the set\n",
    "print('Updated set after adding Twitter: \\n',it_companies)\n",
    "it_companies.update({'Wipro','Deloitte','Bosch'}) #Inserting multiple IT companies at once to the set it_companies\n",
    "print('Updated set after inserting multiple companies at once: \\n',it_companies)\n",
    "it_companies.remove('Facebook')   #removing one element from the set\n",
    "print('Updated set after reoving an element: \\n',it_companies)\n",
    "it_companies.discard('TCS')  #discard won't throw an error if the value is not found in the set\n",
    "\n",
    "\n",
    "print('\\nJoin of A and B: ',A.union(B))  #union of A and B A|B\n",
    "print('Intersection of A and B: ', A.intersection(B)) #intersection of A and B A&B\n",
    "print('Is A subset of B: ', A.issubset(B))  #is A subset of B\n",
    "print('Are A and B disjoint sets: ', A.isdisjoint(B)) #are A and B disjoint sets\n",
    "print('A U B: ', A.union(B), '\\n','B U A: ', B.union(A))\n",
    "print('symmetric difference between A and B: ', A.symmetric_difference(B)) #symmetric difference\n",
    "del A, B\n",
    "ages_set=set(age) #creating a set from given list\n",
    "print('\\nLength of age list:' ,len(age),'Length of age set: ',len(ages_set))\n",
    "if len(age)==len(ages_set): #comparing the lengths of list and set\n",
    "    print(\"\\nBoth the list and set are of equal length\")\n",
    "else:\n",
    "    print(\"Both lengths are not equal\")"
   ]
  },
  {
   "cell_type": "code",
   "execution_count": 11,
   "id": "6fae0d1a",
   "metadata": {},
   "outputs": [
    {
     "name": "stdout",
     "output_type": "stream",
     "text": [
      "Area of the circle is:  2826.0\n",
      "Circumference of the circle is:  188.4\n",
      "Area of the circle for user input radius is:  2826.0\n"
     ]
    }
   ],
   "source": [
    "### Question 5\n",
    "\n",
    "rad=30\n",
    "areaOfCircle=3.14*rad**2 #pie values is 3.14\n",
    "print('Area of the circle is: ',areaOfCircle)\n",
    "circumference=2*3.14*rad                                #circumference of the circle\n",
    "print('Circumference of the circle is: ', circumference)\n",
    "r=int(input())                                          #taking the radius input from the user entering same 30 as radius to tally the output\n",
    "print('Area of the circle for user input radius is: ',3.14*r**2)"
   ]
  },
  {
   "cell_type": "code",
   "execution_count": 20,
   "id": "573e892b",
   "metadata": {},
   "outputs": [
    {
     "name": "stdout",
     "output_type": "stream",
     "text": [
      "Number of unique words are:  10\n"
     ]
    }
   ],
   "source": [
    "#Question 6\n",
    "\n",
    "s=\"I am a teacher and I love to inspire and teach people\"\n",
    "#we can use split() function to split the string into a list of words\n",
    "#we can convert that list into set to count the number of unique words through the length of set\n",
    "lst=s.split()\n",
    "s_set=set(lst)\n",
    "\n",
    "print('Number of unique words are: ',len(s_set))"
   ]
  },
  {
   "cell_type": "code",
   "execution_count": 47,
   "id": "d02931df",
   "metadata": {},
   "outputs": [
    {
     "name": "stdout",
     "output_type": "stream",
     "text": [
      "Name \t\tAge \tCountry \tCity\n",
      "Asabeneh \t250 \tFinland \tHelsinki\n"
     ]
    }
   ],
   "source": [
    "#Question 7\n",
    "\n",
    "print('Name \\t\\tAge \\tCountry \\tCity')\n",
    "print('Asabeneh \\t250 \\tFinland \\tHelsinki')"
   ]
  },
  {
   "cell_type": "code",
   "execution_count": 16,
   "id": "780711fd",
   "metadata": {},
   "outputs": [
    {
     "name": "stdout",
     "output_type": "stream",
     "text": [
      "The area of a circle with radius 10 is 314.0 meters square.\n"
     ]
    }
   ],
   "source": [
    "#Question 8\n",
    "\n",
    "radius = 10\n",
    "area = 3.14 * radius ** 2\n",
    "print(f\"The area of a circle with radius {radius} is {area} meters square.\")  #To find the radius of the circle"
   ]
  },
  {
   "cell_type": "code",
   "execution_count": 19,
   "id": "bcfb4fe6",
   "metadata": {},
   "outputs": [
    {
     "name": "stdout",
     "output_type": "stream",
     "text": [
      "Enter Number of Students: 4\n",
      "Enter weight for student 0: 150\n",
      "Enter weight for student 1: 155\n",
      "Enter weight for student 2: 145\n",
      "Enter weight for student 3: 148\n",
      "weights in KG:  [68.04, 70.31, 65.77, 67.13]\n"
     ]
    }
   ],
   "source": [
    "#Question 9\n",
    "\n",
    "n=int(input(\"Enter Number of Students: \")) #taking number of students input from the user\n",
    "lst=[] #creating empty list for weights\n",
    "for i in range(n):\n",
    "    inp=int(input(\"Enter weight for student %d: \"%i)) #taking weights of each student input from user\n",
    "    lst.append(inp) #appending user entered weights to empty list\n",
    "    \n",
    "res=[] #created empty list for converted weights\n",
    "for i in lst:\n",
    "    res.append(round(i*0.453592,2)) #adding converted weights to res list\n",
    "    \n",
    "print('weights in KG: ',res)"
   ]
  },
  {
   "cell_type": "code",
   "execution_count": null,
   "id": "29219468",
   "metadata": {},
   "outputs": [],
   "source": []
  }
 ],
 "metadata": {
  "kernelspec": {
   "display_name": "Python 3 (ipykernel)",
   "language": "python",
   "name": "python3"
  },
  "language_info": {
   "codemirror_mode": {
    "name": "ipython",
    "version": 3
   },
   "file_extension": ".py",
   "mimetype": "text/x-python",
   "name": "python",
   "nbconvert_exporter": "python",
   "pygments_lexer": "ipython3",
   "version": "3.11.5"
  }
 },
 "nbformat": 4,
 "nbformat_minor": 5
}
